{
 "cells": [
  {
   "cell_type": "code",
   "execution_count": 1,
   "metadata": {},
   "outputs": [],
   "source": [
    "import numpy as np\n",
    "import cv2 as cv"
   ]
  },
  {
   "cell_type": "code",
   "execution_count": null,
   "metadata": {},
   "outputs": [],
   "source": [
    "face_cascade = cv.CascadeClassifier('C:/opencv/sources/data/haarcascades/haarcascade_frontalface_default.xml')\n",
    "eye_cascade = cv.CascadeClassifier('C:/opencv/sources/data/haarcascades/haarcascade_eye.xml')\n",
    "\n",
    "cap = cv.VideoCapture(0)\n",
    "if not cap.isOpened():\n",
    "    print(\"Cannot open camera!\")\n",
    "    exit()\n",
    "while True:\n",
    "    ret, frame = cap.read()\n",
    "    \n",
    "    if not ret:\n",
    "        print(\"Can't receive frame (stream end?). Exiting ...\")\n",
    "        break\n",
    "    \n",
    "    gray = cv.cvtColor(frame, cv.COLOR_BGR2GRAY)\n",
    "    \n",
    "    faces = face_cascade.detectMultiScale(gray, 1.3, 5)\n",
    "    for (x,y,w,h) in faces:\n",
    "        cv.rectangle(frame,(x,y),(x+w,y+h),(255,0,0),2)\n",
    "        \n",
    "        # 缩放\n",
    "        face_item = cv.resize( frame[y:y+h, x:x+w], (96, 96))\n",
    "        cv.imwrite(\"images/face_item.png\", face_item)\n",
    "        \n",
    "        min_dist, identity = who_is_it(\"images/face_item.png\", database, FRmodel)\n",
    "        \n",
    "        descText = \"\"\n",
    "        if(min_dist < 0.7):\n",
    "            descText = str(identity) + \", \" + str(min_dist)\n",
    "            print(\"Validate successfull!\")\n",
    "            print (\"it's \" + str(identity) + \", the distance is \" + str(min_dist))\n",
    "        else:\n",
    "            descText = \"Validate failed!\"\n",
    "            print (\"it's \" + str(identity) + \", the distance is \" + str(min_dist))\n",
    "            print(\"Validate failed!\")\n",
    "        \n",
    "        cv.putText(frame, descText, (x, y-10), cv.FONT_HERSHEY_SIMPLEX, 0.5, (0, 0, 255))\n",
    "    \n",
    "    cv.imshow('frame', frame)\n",
    "    if cv.waitKey(1) == ord('q'):\n",
    "        break\n",
    "\n",
    "cap.release()\n",
    "cv.destroyAllWindows()"
   ]
  }
 ],
 "metadata": {
  "kernelspec": {
   "display_name": "Python 3",
   "language": "python",
   "name": "python3"
  },
  "language_info": {
   "codemirror_mode": {
    "name": "ipython",
    "version": 3
   },
   "file_extension": ".py",
   "mimetype": "text/x-python",
   "name": "python",
   "nbconvert_exporter": "python",
   "pygments_lexer": "ipython3",
   "version": "3.6.3"
  }
 },
 "nbformat": 4,
 "nbformat_minor": 2
}
