{
 "cells": [
  {
   "cell_type": "code",
   "execution_count": 9,
   "metadata": {},
   "outputs": [
    {
     "name": "stdout",
     "output_type": "stream",
     "text": [
      "The autoreload extension is already loaded. To reload it, use:\n",
      "  %reload_ext autoreload\n"
     ]
    }
   ],
   "source": [
    "from keras.models import Sequential\n",
    "from keras.layers import Conv2D, ZeroPadding2D, Activation, Input, concatenate\n",
    "from keras.models import Model\n",
    "from keras.layers.normalization import BatchNormalization\n",
    "from keras.layers.pooling import MaxPooling2D, AveragePooling2D\n",
    "from keras.layers.merge import Concatenate\n",
    "from keras.layers.core import Lambda, Flatten, Dense\n",
    "from keras.initializers import glorot_uniform\n",
    "from keras.engine.topology import Layer\n",
    "from keras import backend as K\n",
    "K.set_image_data_format('channels_first')\n",
    "import cv2 as cv\n",
    "import os\n",
    "import numpy as np\n",
    "from numpy import genfromtxt\n",
    "import pandas as pd\n",
    "import tensorflow as tf\n",
    "from fr_utils import *\n",
    "from inception_blocks_v2 import *\n",
    "\n",
    "%matplotlib inline\n",
    "%load_ext autoreload\n",
    "%autoreload 2\n",
    "\n",
    "np.set_printoptions(threshold=np.nan)"
   ]
  },
  {
   "cell_type": "markdown",
   "metadata": {},
   "source": [
    "## 1. use a inception model to encode the input face （FaceNet）"
   ]
  },
  {
   "cell_type": "code",
   "execution_count": 2,
   "metadata": {},
   "outputs": [],
   "source": [
    "FRmodel = faceRecoModel(input_shape=(3, 96, 96))"
   ]
  },
  {
   "cell_type": "code",
   "execution_count": 3,
   "metadata": {},
   "outputs": [
    {
     "name": "stdout",
     "output_type": "stream",
     "text": [
      "faceRecoModel Total Params: 3743280\n"
     ]
    }
   ],
   "source": [
    "print(\"faceRecoModel Total Params:\", FRmodel.count_params())"
   ]
  },
  {
   "cell_type": "markdown",
   "metadata": {},
   "source": [
    "## 2. Triplet Loss （DeepFace）"
   ]
  },
  {
   "cell_type": "code",
   "execution_count": 4,
   "metadata": {},
   "outputs": [],
   "source": [
    "def triplet_loss(y_true, y_pred, alpha = 0.2):\n",
    "    # A P N\n",
    "    anchor, positive, negative = y_pred[0], y_pred[1], y_pred[2]\n",
    "    \n",
    "    # distance between the anchor and the positive\n",
    "    pos_dist = tf.square(anchor - positive)\n",
    "    # distance between the anchor and the negative\n",
    "    neg_dist = tf.square(anchor - negative)\n",
    "    \n",
    "    basic_loss = tf.reduce_sum( pos_dist - negative) + alpha\n",
    "    #Take the maximum of basic_loss and 0.0. Sum over the training examples.\n",
    "    loss = tf.reduce_sum(tf.maximum(basic_loss,0.))\n",
    "    \n",
    "    return loss"
   ]
  },
  {
   "cell_type": "markdown",
   "metadata": {},
   "source": [
    "### test triplet loss"
   ]
  },
  {
   "cell_type": "code",
   "execution_count": 5,
   "metadata": {},
   "outputs": [
    {
     "name": "stdout",
     "output_type": "stream",
     "text": [
      "loss = 8841.694\n"
     ]
    }
   ],
   "source": [
    "with tf.Session() as test:\n",
    "    tf.set_random_seed(1)\n",
    "    y_true = (None, None, None)\n",
    "    y_pred = (tf.random_normal([3, 128], mean=6, stddev=0.1, seed = 1),\n",
    "              tf.random_normal([3, 128], mean=1, stddev=1, seed = 1),\n",
    "              tf.random_normal([3, 128], mean=3, stddev=4, seed = 1))\n",
    "    loss = triplet_loss(y_true, y_pred)\n",
    "    print(\"loss = \" + str(loss.eval()))"
   ]
  },
  {
   "cell_type": "markdown",
   "metadata": {},
   "source": [
    "## 3.Train / Load Model( Todo: train it own)"
   ]
  },
  {
   "cell_type": "code",
   "execution_count": 6,
   "metadata": {},
   "outputs": [],
   "source": [
    "FRmodel.compile(optimizer = 'adam', loss = triplet_loss, metrics = ['accuracy'])\n",
    "load_weights_from_FaceNet(FRmodel)"
   ]
  },
  {
   "cell_type": "markdown",
   "metadata": {},
   "source": [
    "### load data"
   ]
  },
  {
   "cell_type": "code",
   "execution_count": 7,
   "metadata": {},
   "outputs": [],
   "source": [
    "database = {}\n",
    "database[\"danielle\"] = img_to_encoding(\"images/danielle.png\", FRmodel)\n",
    "database[\"younes\"] = img_to_encoding(\"images/younes.jpg\", FRmodel)\n",
    "database[\"tian\"] = img_to_encoding(\"images/tian.jpg\", FRmodel)\n",
    "database[\"andrew\"] = img_to_encoding(\"images/andrew.jpg\", FRmodel)\n",
    "database[\"kian\"] = img_to_encoding(\"images/kian.jpg\", FRmodel)\n",
    "database[\"dan\"] = img_to_encoding(\"images/dan.jpg\", FRmodel)\n",
    "database[\"sebastiano\"] = img_to_encoding(\"images/sebastiano.jpg\", FRmodel)\n",
    "database[\"bertrand\"] = img_to_encoding(\"images/bertrand.jpg\", FRmodel)\n",
    "database[\"kevin\"] = img_to_encoding(\"images/kevin.jpg\", FRmodel)\n",
    "database[\"felix\"] = img_to_encoding(\"images/felix.jpg\", FRmodel)\n",
    "database[\"benoit\"] = img_to_encoding(\"images/benoit.jpg\", FRmodel)\n",
    "database[\"arnaud\"] = img_to_encoding(\"images/arnaud.jpg\", FRmodel)\n",
    "database[\"meihaifeng\"] = img_to_encoding(\"images/mhf.png\", FRmodel)"
   ]
  },
  {
   "cell_type": "markdown",
   "metadata": {},
   "source": [
    "## 4. Recognize"
   ]
  },
  {
   "cell_type": "code",
   "execution_count": 8,
   "metadata": {},
   "outputs": [],
   "source": [
    "def who_is_it(image_path, database, model):\n",
    "    \"\"\"\n",
    "    Implements face recognition for the happy house by finding who is the person on the image_path image.\n",
    "    \n",
    "    Arguments:\n",
    "    image_path -- path to an image\n",
    "    database -- database containing image encodings along with the name of the person on the image\n",
    "    model -- your Inception model instance in Keras\n",
    "    \n",
    "    Returns:\n",
    "    min_dist -- the minimum distance between image_path encoding and the encodings from the database\n",
    "    identity -- string, the name prediction for the person on image_path\n",
    "    \"\"\"\n",
    "    \n",
    "    ### START CODE HERE ### \n",
    "    \n",
    "    ## Step 1: Compute the target \"encoding\" for the image. Use img_to_encoding() see example above. ## (≈ 1 line)\n",
    "    encoding = img_to_encoding(image_path, model)\n",
    "    \n",
    "    ## Step 2: Find the closest encoding ##\n",
    "    \n",
    "    # Initialize \"min_dist\" to a large value, say 100 (≈1 line)\n",
    "    min_dist = 100\n",
    "    \n",
    "    # Loop over the database dictionary's names and encodings.\n",
    "    for (name, db_enc) in database.items():\n",
    "        \n",
    "        # Compute L2 distance between the target \"encoding\" and the current \"emb\" from the database. (≈ 1 line)\n",
    "        dist = np.linalg.norm(encoding-database[name])\n",
    "\n",
    "        # If this distance is less than the min_dist, then set min_dist to dist, and identity to name. (≈ 3 lines)\n",
    "        if dist<min_dist:\n",
    "            min_dist = dist\n",
    "            identity = name\n",
    "\n",
    "    ### END CODE HERE ###\n",
    "    \n",
    "    if min_dist > 0.7:\n",
    "        print(\"Not in the database.\")\n",
    "    else:\n",
    "        print (\"it's \" + str(identity) + \", the distance is \" + str(min_dist))\n",
    "        \n",
    "    return min_dist, identity"
   ]
  },
  {
   "cell_type": "markdown",
   "metadata": {},
   "source": [
    "## 5. Get face using camera"
   ]
  },
  {
   "cell_type": "code",
   "execution_count": 11,
   "metadata": {},
   "outputs": [
    {
     "name": "stdout",
     "output_type": "stream",
     "text": [
      "it's meihaifeng, the distance is 0.691194\n",
      "Validate successfull!\n",
      "it's meihaifeng, the distance is 0.691194\n",
      "Not in the database.\n",
      "it's meihaifeng, the distance is 0.70487154\n",
      "Validate failed!\n",
      "Not in the database.\n",
      "it's tian, the distance is 0.7727179\n",
      "Validate failed!\n",
      "it's meihaifeng, the distance is 0.57817405\n",
      "Validate successfull!\n",
      "it's meihaifeng, the distance is 0.57817405\n",
      "it's meihaifeng, the distance is 0.5866966\n",
      "Validate successfull!\n",
      "it's meihaifeng, the distance is 0.5866966\n",
      "Not in the database.\n",
      "it's meihaifeng, the distance is 0.8222295\n",
      "Validate failed!\n",
      "Not in the database.\n",
      "it's meihaifeng, the distance is 0.81939435\n",
      "Validate failed!\n",
      "it's meihaifeng, the distance is 0.6640512\n",
      "Validate successfull!\n",
      "it's meihaifeng, the distance is 0.6640512\n",
      "it's meihaifeng, the distance is 0.68597347\n",
      "Validate successfull!\n",
      "it's meihaifeng, the distance is 0.68597347\n",
      "Not in the database.\n",
      "it's tian, the distance is 0.75464654\n",
      "Validate failed!\n",
      "it's meihaifeng, the distance is 0.68475574\n",
      "Validate successfull!\n",
      "it's meihaifeng, the distance is 0.68475574\n",
      "Not in the database.\n",
      "it's meihaifeng, the distance is 0.70133513\n",
      "Validate failed!\n",
      "it's meihaifeng, the distance is 0.57234037\n",
      "Validate successfull!\n",
      "it's meihaifeng, the distance is 0.57234037\n",
      "Not in the database.\n",
      "it's meihaifeng, the distance is 0.7154876\n",
      "Validate failed!\n",
      "it's meihaifeng, the distance is 0.671794\n",
      "Validate successfull!\n",
      "it's meihaifeng, the distance is 0.671794\n",
      "it's meihaifeng, the distance is 0.59720117\n",
      "Validate successfull!\n",
      "it's meihaifeng, the distance is 0.59720117\n",
      "it's meihaifeng, the distance is 0.6149291\n",
      "Validate successfull!\n",
      "it's meihaifeng, the distance is 0.6149291\n",
      "Not in the database.\n",
      "it's meihaifeng, the distance is 0.73139143\n",
      "Validate failed!\n",
      "Not in the database.\n",
      "it's tian, the distance is 0.77475274\n",
      "Validate failed!\n",
      "Not in the database.\n",
      "it's meihaifeng, the distance is 0.7418163\n",
      "Validate failed!\n",
      "Not in the database.\n",
      "it's meihaifeng, the distance is 0.74850744\n",
      "Validate failed!\n",
      "Not in the database.\n",
      "it's meihaifeng, the distance is 0.7158052\n",
      "Validate failed!\n",
      "Not in the database.\n",
      "it's meihaifeng, the distance is 0.7521348\n",
      "Validate failed!\n",
      "Not in the database.\n",
      "it's meihaifeng, the distance is 0.78029466\n",
      "Validate failed!\n",
      "Not in the database.\n",
      "it's meihaifeng, the distance is 0.77574223\n",
      "Validate failed!\n",
      "Not in the database.\n",
      "it's tian, the distance is 0.8204944\n",
      "Validate failed!\n",
      "Not in the database.\n",
      "it's meihaifeng, the distance is 0.7272748\n",
      "Validate failed!\n",
      "it's meihaifeng, the distance is 0.6180539\n",
      "Validate successfull!\n",
      "it's meihaifeng, the distance is 0.6180539\n",
      "Not in the database.\n",
      "it's meihaifeng, the distance is 0.71775985\n",
      "Validate failed!\n",
      "Not in the database.\n",
      "it's tian, the distance is 0.7148166\n",
      "Validate failed!\n",
      "Not in the database.\n",
      "it's tian, the distance is 0.790519\n",
      "Validate failed!\n",
      "Not in the database.\n",
      "it's meihaifeng, the distance is 0.77665776\n",
      "Validate failed!\n",
      "Not in the database.\n",
      "it's felix, the distance is 0.71120816\n",
      "Validate failed!\n",
      "it's felix, the distance is 0.6909828\n",
      "Validate successfull!\n",
      "it's felix, the distance is 0.6909828\n",
      "Not in the database.\n",
      "it's felix, the distance is 0.7457841\n",
      "Validate failed!\n",
      "Not in the database.\n",
      "it's felix, the distance is 0.71138483\n",
      "Validate failed!\n",
      "Not in the database.\n",
      "it's felix, the distance is 0.7156458\n",
      "Validate failed!\n",
      "Not in the database.\n",
      "it's andrew, the distance is 0.74563456\n",
      "Validate failed!\n",
      "Not in the database.\n",
      "it's felix, the distance is 0.7462548\n",
      "Validate failed!\n",
      "Not in the database.\n",
      "it's felix, the distance is 0.7311452\n",
      "Validate failed!\n",
      "Not in the database.\n",
      "it's andrew, the distance is 0.7197104\n",
      "Validate failed!\n",
      "it's andrew, the distance is 0.6358559\n",
      "Validate successfull!\n",
      "it's andrew, the distance is 0.6358559\n",
      "it's andrew, the distance is 0.6462817\n",
      "Validate successfull!\n",
      "it's andrew, the distance is 0.6462817\n",
      "it's andrew, the distance is 0.6622232\n",
      "Validate successfull!\n",
      "it's andrew, the distance is 0.6622232\n",
      "it's andrew, the distance is 0.61055714\n",
      "Validate successfull!\n",
      "it's andrew, the distance is 0.61055714\n",
      "it's andrew, the distance is 0.6295466\n",
      "Validate successfull!\n",
      "it's andrew, the distance is 0.6295466\n",
      "it's andrew, the distance is 0.66580653\n",
      "Validate successfull!\n",
      "it's andrew, the distance is 0.66580653\n",
      "Not in the database.\n",
      "it's meihaifeng, the distance is 0.7308593\n",
      "Validate failed!\n",
      "it's meihaifeng, the distance is 0.5830705\n",
      "Validate successfull!\n",
      "it's meihaifeng, the distance is 0.5830705\n",
      "it's meihaifeng, the distance is 0.5892674\n",
      "Validate successfull!\n",
      "it's meihaifeng, the distance is 0.5892674\n",
      "it's meihaifeng, the distance is 0.5217933\n",
      "Validate successfull!\n",
      "it's meihaifeng, the distance is 0.5217933\n",
      "it's meihaifeng, the distance is 0.5448272\n",
      "Validate successfull!\n",
      "it's meihaifeng, the distance is 0.5448272\n",
      "it's meihaifeng, the distance is 0.57889444\n",
      "Validate successfull!\n",
      "it's meihaifeng, the distance is 0.57889444\n",
      "it's meihaifeng, the distance is 0.59689474\n",
      "Validate successfull!\n",
      "it's meihaifeng, the distance is 0.59689474\n",
      "it's meihaifeng, the distance is 0.56437814\n",
      "Validate successfull!\n",
      "it's meihaifeng, the distance is 0.56437814\n",
      "it's meihaifeng, the distance is 0.49703312\n",
      "Validate successfull!\n",
      "it's meihaifeng, the distance is 0.49703312\n",
      "it's meihaifeng, the distance is 0.55899364\n",
      "Validate successfull!\n",
      "it's meihaifeng, the distance is 0.55899364\n",
      "it's meihaifeng, the distance is 0.63711166\n",
      "Validate successfull!\n",
      "it's meihaifeng, the distance is 0.63711166\n",
      "it's meihaifeng, the distance is 0.632106\n",
      "Validate successfull!\n",
      "it's meihaifeng, the distance is 0.632106\n",
      "it's meihaifeng, the distance is 0.5438923\n",
      "Validate successfull!\n",
      "it's meihaifeng, the distance is 0.5438923\n"
     ]
    }
   ],
   "source": [
    "face_cascade = cv.CascadeClassifier('./haarcascade_frontalface_default.xml')\n",
    "\n",
    "cap = cv.VideoCapture(0)\n",
    "if not cap.isOpened():\n",
    "    print(\"Cannot open camera!\")\n",
    "    exit()\n",
    "while True:\n",
    "    ret, frame = cap.read()\n",
    "    \n",
    "    if not ret:\n",
    "        print(\"Can't receive frame (stream end?). Exiting ...\")\n",
    "        break\n",
    "    \n",
    "    gray = cv.cvtColor(frame, cv.COLOR_BGR2GRAY)\n",
    "    \n",
    "    faces = face_cascade.detectMultiScale(gray, 1.3, 5)\n",
    "    for (x,y,w,h) in faces:\n",
    "        cv.rectangle(frame,(x,y),(x+w,y+h),(255,0,0),2)\n",
    "        \n",
    "        # 缩放\n",
    "        face_item = cv.resize( frame[y:y+h, x:x+w], (96, 96))\n",
    "        cv.imwrite(\"images/face_item.png\", face_item)\n",
    "        \n",
    "        min_dist, identity = who_is_it(\"images/face_item.png\", database, FRmodel)\n",
    "        \n",
    "        descText = \"\"\n",
    "        if(min_dist < 0.7):\n",
    "            descText = str(identity) + \", \" + str(min_dist)\n",
    "            print(\"Validate successfull!\")\n",
    "            print (\"it's \" + str(identity) + \", the distance is \" + str(min_dist))\n",
    "        else:\n",
    "            descText = \"Validate failed!\"\n",
    "            print (\"it's \" + str(identity) + \", the distance is \" + str(min_dist))\n",
    "            print(\"Validate failed!\")\n",
    "        \n",
    "        cv.putText(frame, descText, (x, y-10), cv.FONT_HERSHEY_SIMPLEX, 0.5, (0, 0, 255))\n",
    "    \n",
    "    cv.imshow('frame', frame)\n",
    "    if cv.waitKey(1) == ord('q'):\n",
    "        break\n",
    "\n",
    "cap.release()\n",
    "cv.destroyAllWindows()"
   ]
  },
  {
   "cell_type": "code",
   "execution_count": null,
   "metadata": {},
   "outputs": [],
   "source": []
  }
 ],
 "metadata": {
  "kernelspec": {
   "display_name": "Python 3",
   "language": "python",
   "name": "python3"
  },
  "language_info": {
   "codemirror_mode": {
    "name": "ipython",
    "version": 3
   },
   "file_extension": ".py",
   "mimetype": "text/x-python",
   "name": "python",
   "nbconvert_exporter": "python",
   "pygments_lexer": "ipython3",
   "version": "3.6.3"
  }
 },
 "nbformat": 4,
 "nbformat_minor": 2
}
